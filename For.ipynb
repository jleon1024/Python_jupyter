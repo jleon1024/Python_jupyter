{
 "cells": [
  {
   "cell_type": "code",
   "execution_count": 5,
   "metadata": {},
   "outputs": [
    {
     "name": "stdout",
     "output_type": "stream",
     "text": [
      "Ingrese el número: 5\n",
      "Factorial es:  120\n"
     ]
    }
   ],
   "source": [
    "a = int(input(\"Ingrese el número: \"))\n",
    "b=0\n",
    "c=1\n",
    "if a==0:\n",
    "    print(\"Factorial = 1\")\n",
    "else:\n",
    "    b=1\n",
    "    while b<=a:\n",
    "        c=c*b\n",
    "        b=b+1\n",
    "    print (\"Factorial es: \",c)\n",
    "    \n",
    "    \n",
    "    "
   ]
  },
  {
   "cell_type": "markdown",
   "metadata": {},
   "source": [
    "# Bucle for"
   ]
  },
  {
   "cell_type": "code",
   "execution_count": 6,
   "metadata": {},
   "outputs": [
    {
     "name": "stdout",
     "output_type": "stream",
     "text": [
      "blanco\n",
      "Rojo\n",
      "naranja\n",
      "3.0\n",
      "5.7\n"
     ]
    }
   ],
   "source": [
    "ejemplo = [\"blanco\",\"Rojo\",\"naranja\", 3.0, 5.7]\n",
    "\n",
    "for i in ejemplo:\n",
    "    print(i)\n",
    "    "
   ]
  },
  {
   "cell_type": "code",
   "execution_count": 7,
   "metadata": {},
   "outputs": [
    {
     "name": "stdout",
     "output_type": "stream",
     "text": [
      "H\n",
      "o\n",
      "l\n",
      "a\n",
      " \n",
      "m\n",
      "u\n",
      "n\n",
      "d\n",
      "o\n"
     ]
    }
   ],
   "source": [
    "d = \"Hola mundo\"\n",
    "\n",
    "for i in d:\n",
    "    print(i)"
   ]
  },
  {
   "cell_type": "code",
   "execution_count": 20,
   "metadata": {},
   "outputs": [
    {
     "name": "stdout",
     "output_type": "stream",
     "text": [
      "1\n",
      "6\n"
     ]
    }
   ],
   "source": [
    "for i in range (1,11,5):\n",
    "    print (i)\n",
    "\n"
   ]
  },
  {
   "cell_type": "code",
   "execution_count": 23,
   "metadata": {},
   "outputs": [
    {
     "name": "stdout",
     "output_type": "stream",
     "text": [
      "[['blanco', 'rojo', 'naranja'], [4, 5, 6]]\n"
     ]
    }
   ],
   "source": [
    "j = [[\"blanco\",\"rojo\",\"naranja\"],[4,5,6]]\n",
    "print (j)"
   ]
  },
  {
   "cell_type": "code",
   "execution_count": 24,
   "metadata": {},
   "outputs": [
    {
     "name": "stdout",
     "output_type": "stream",
     "text": [
      "rojo\n"
     ]
    }
   ],
   "source": [
    "print (j[0][1])"
   ]
  },
  {
   "cell_type": "code",
   "execution_count": 27,
   "metadata": {},
   "outputs": [
    {
     "name": "stdout",
     "output_type": "stream",
     "text": [
      "hola: 4\n",
      "24\n"
     ]
    }
   ],
   "source": [
    "num=int(input(\"hola: \"))\n",
    "a= 1  \n",
    "if num==0:\n",
    "    print (\"El factorial es: 1\")\n",
    "else:\n",
    "    for i in range (1, num+1):\n",
    "        a= a* i\n",
    "    print (a)"
   ]
  },
  {
   "cell_type": "code",
   "execution_count": null,
   "metadata": {},
   "outputs": [],
   "source": []
  }
 ],
 "metadata": {
  "kernelspec": {
   "display_name": "Python 3",
   "language": "python",
   "name": "python3"
  },
  "language_info": {
   "codemirror_mode": {
    "name": "ipython",
    "version": 3
   },
   "file_extension": ".py",
   "mimetype": "text/x-python",
   "name": "python",
   "nbconvert_exporter": "python",
   "pygments_lexer": "ipython3",
   "version": "3.8.5"
  }
 },
 "nbformat": 4,
 "nbformat_minor": 4
}
