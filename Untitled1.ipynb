{
 "cells": [
  {
   "cell_type": "code",
   "execution_count": 4,
   "id": "f06710e6",
   "metadata": {},
   "outputs": [],
   "source": [
    "def suma (a,b,c,d,e):\n",
    "    resultado=a+b+c+d+e\n",
    "    return(resultado)"
   ]
  },
  {
   "cell_type": "code",
   "execution_count": 5,
   "id": "868b8b92",
   "metadata": {},
   "outputs": [
    {
     "name": "stdout",
     "output_type": "stream",
     "text": [
      "7\n"
     ]
    }
   ],
   "source": [
    "y=suma(1,2,1,2,1)\n",
    "print(y)"
   ]
  },
  {
   "cell_type": "markdown",
   "id": "a58a99b8",
   "metadata": {},
   "source": [
    "## Ejercicio"
   ]
  },
  {
   "cell_type": "markdown",
   "id": "b3e2eac0",
   "metadata": {},
   "source": [
    "Realizar una función que permita devolver el valor del factorial"
   ]
  },
  {
   "cell_type": "code",
   "execution_count": 6,
   "id": "a7830865",
   "metadata": {},
   "outputs": [],
   "source": [
    "lista = {\"Nombre\":\"Jose\",\"Nombre\":\"Juan\"}"
   ]
  },
  {
   "cell_type": "code",
   "execution_count": 7,
   "id": "2114610d",
   "metadata": {},
   "outputs": [
    {
     "name": "stdout",
     "output_type": "stream",
     "text": [
      "Juan\n"
     ]
    }
   ],
   "source": [
    "print (lista[\"Nombre\"])"
   ]
  },
  {
   "cell_type": "code",
   "execution_count": 15,
   "id": "fee4b037",
   "metadata": {},
   "outputs": [],
   "source": [
    "estudiante1 = {\"Nombre\":\"Jose\",\"Edad\":33,\"Materias\":[\"Ecuaciones\", \"Programacion\", \"Fisica\"]}\n",
    "estudiante2 = {\"Nombre\":\"Andrea\",\"Edad\":25,\"Materias\":[\"Español\", \"Programacion\", \"Quimica\"]}\n",
    "estudiante3 = {\"Materias\":[\"Filosofia\", \"Ingles\"],\"Nombre\":\"Laura\",\"Edad\":18}"
   ]
  },
  {
   "cell_type": "code",
   "execution_count": 9,
   "id": "d86fd319",
   "metadata": {},
   "outputs": [
    {
     "name": "stdout",
     "output_type": "stream",
     "text": [
      "{'Nombre': 'Jose', 'Edad': 33, 'Materias': ['Ecuaciones', 'Programacion', 'Fisica']}\n"
     ]
    }
   ],
   "source": [
    "print(estudiante1)"
   ]
  },
  {
   "cell_type": "code",
   "execution_count": 17,
   "id": "b8617f58",
   "metadata": {},
   "outputs": [
    {
     "name": "stdout",
     "output_type": "stream",
     "text": [
      "['Filosofia', 'Ingles']\n"
     ]
    }
   ],
   "source": [
    "print(estudiante3[\"Materias\"])"
   ]
  },
  {
   "cell_type": "code",
   "execution_count": 12,
   "id": "528e610b",
   "metadata": {},
   "outputs": [
    {
     "name": "stdout",
     "output_type": "stream",
     "text": [
      "33\n"
     ]
    }
   ],
   "source": [
    "print(estudiante1[\"Edad\"])"
   ]
  },
  {
   "cell_type": "code",
   "execution_count": 13,
   "id": "29c4c10f",
   "metadata": {},
   "outputs": [
    {
     "name": "stdout",
     "output_type": "stream",
     "text": [
      "['Ecuaciones', 'Programacion', 'Fisica']\n"
     ]
    }
   ],
   "source": [
    "print(estudiante1[\"Materias\"])"
   ]
  },
  {
   "cell_type": "code",
   "execution_count": 14,
   "id": "3c8231df",
   "metadata": {},
   "outputs": [
    {
     "name": "stdout",
     "output_type": "stream",
     "text": [
      "Ecuaciones\n"
     ]
    }
   ],
   "source": [
    "print(estudiante1[\"Materias\"][0])"
   ]
  },
  {
   "cell_type": "code",
   "execution_count": 23,
   "id": "bf7e1be1",
   "metadata": {},
   "outputs": [
    {
     "name": "stdout",
     "output_type": "stream",
     "text": [
      "Materias  :  ['Filosofia', 'Ingles']\n",
      "Nombre  :  Laura\n",
      "Edad  :  18\n"
     ]
    }
   ],
   "source": [
    "for i in estudiante3:\n",
    "    print(i,\" : \",estudiante3[i])"
   ]
  },
  {
   "cell_type": "markdown",
   "id": "33e10497",
   "metadata": {},
   "source": [
    "Campos son: ID, Nombre*, Telefono*, correo, dirección, edad*. (crear 5 contactos en un solo diccionario) "
   ]
  }
 ],
 "metadata": {
  "kernelspec": {
   "display_name": "Python 3 (ipykernel)",
   "language": "python",
   "name": "python3"
  },
  "language_info": {
   "codemirror_mode": {
    "name": "ipython",
    "version": 3
   },
   "file_extension": ".py",
   "mimetype": "text/x-python",
   "name": "python",
   "nbconvert_exporter": "python",
   "pygments_lexer": "ipython3",
   "version": "3.8.6"
  }
 },
 "nbformat": 4,
 "nbformat_minor": 5
}
