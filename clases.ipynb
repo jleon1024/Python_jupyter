{
 "cells": [
  {
   "cell_type": "markdown",
   "id": "72b60422",
   "metadata": {},
   "source": [
    "# Clases y Objetos"
   ]
  },
  {
   "cell_type": "markdown",
   "id": "8914d825",
   "metadata": {},
   "source": [
    "class Nombre_de_la_clase:"
   ]
  },
  {
   "cell_type": "code",
   "execution_count": 18,
   "id": "7a5ee4d7",
   "metadata": {},
   "outputs": [],
   "source": [
    "class Alumnos:\n",
    "    nombre = \"\"\n",
    "    codigo =\"\"\n",
    "    \n",
    "    def imprimir_nombre(self):\n",
    "        print (self.nombre)\n",
    "        \n",
    "    def imprimir_codigo(self):\n",
    "        print (self.codigo)\n",
    "    "
   ]
  },
  {
   "cell_type": "code",
   "execution_count": 19,
   "id": "4fef9292",
   "metadata": {},
   "outputs": [
    {
     "name": "stdout",
     "output_type": "stream",
     "text": [
      "<__main__.Alumnos object at 0x0000027CDF023B50>\n"
     ]
    }
   ],
   "source": [
    "print (Alumnos())"
   ]
  },
  {
   "cell_type": "code",
   "execution_count": 23,
   "id": "83b26fda",
   "metadata": {},
   "outputs": [],
   "source": [
    "jose = Alumnos()\n",
    "jose.nombre = \"Daniela Figueroa Silva\"\n",
    "jose.codigo = \"921220\""
   ]
  },
  {
   "cell_type": "code",
   "execution_count": 24,
   "id": "ea23e387",
   "metadata": {},
   "outputs": [
    {
     "name": "stdout",
     "output_type": "stream",
     "text": [
      "Daniela Figueroa Silva\n"
     ]
    }
   ],
   "source": [
    "jose.imprimir_nombre()"
   ]
  },
  {
   "cell_type": "code",
   "execution_count": 25,
   "id": "ab2615d8",
   "metadata": {},
   "outputs": [
    {
     "name": "stdout",
     "output_type": "stream",
     "text": [
      "921220\n"
     ]
    }
   ],
   "source": [
    "jose.imprimir_codigo()"
   ]
  },
  {
   "cell_type": "markdown",
   "id": "0d7ea59b",
   "metadata": {},
   "source": [
    "Crear una clase de carros y esta clase va a tener 4 caracteristicas (modelo, color, numero de puertas y capacidad de pasajeros) y crear 3 objetos de esta clase y metodos para imprimir cada caracteristica.  "
   ]
  },
  {
   "cell_type": "code",
   "execution_count": 26,
   "id": "2e47f614",
   "metadata": {},
   "outputs": [],
   "source": [
    "class libros:\n",
    "    paginas=0\n",
    "    editorial=\"\"\n",
    "    tipo=\"\"\n",
    "    issn=\"\"\n",
    "    \n",
    "    def imprimir_paginas (self):\n",
    "        print(self.paginas)\n",
    "    def imprimir_editorial (self):\n",
    "        print(self.editorial)\n",
    "    def imprimir_tipo (self):\n",
    "        print (self.tipo)\n",
    "    def imprimir_issn (self):\n",
    "        print (self.issn)"
   ]
  },
  {
   "cell_type": "code",
   "execution_count": 27,
   "id": "ec856c09",
   "metadata": {},
   "outputs": [],
   "source": [
    "circuitos = libros()\n",
    "circuitos.paginas=100\n",
    "circuitos.editorial=\"Planeta\"\n",
    "circuitos.tipo=\"digital\"\n",
    "circuitos.issn=\"A123B456\""
   ]
  },
  {
   "cell_type": "code",
   "execution_count": 29,
   "id": "4f89b41c",
   "metadata": {},
   "outputs": [
    {
     "name": "stdout",
     "output_type": "stream",
     "text": [
      "100\n"
     ]
    }
   ],
   "source": [
    "circuitos.imprimir_paginas()"
   ]
  },
  {
   "cell_type": "code",
   "execution_count": null,
   "id": "ef89767a",
   "metadata": {},
   "outputs": [],
   "source": []
  }
 ],
 "metadata": {
  "kernelspec": {
   "display_name": "Python 3 (ipykernel)",
   "language": "python",
   "name": "python3"
  },
  "language_info": {
   "codemirror_mode": {
    "name": "ipython",
    "version": 3
   },
   "file_extension": ".py",
   "mimetype": "text/x-python",
   "name": "python",
   "nbconvert_exporter": "python",
   "pygments_lexer": "ipython3",
   "version": "3.8.6"
  }
 },
 "nbformat": 4,
 "nbformat_minor": 5
}
